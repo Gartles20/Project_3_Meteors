{
 "cells": [
  {
   "cell_type": "code",
   "execution_count": 32,
   "id": "0ce1f0b0-2e43-4db5-ba3c-d3072d6bbaf3",
   "metadata": {},
   "outputs": [],
   "source": [
    "# Imports\n",
    "import pandas as pd\n",
    "import plotly.express as px\n",
    "import matplotlib.pyplot as plt\n",
    "import sqlalchemy\n",
    "from sqlalchemy.ext.automap import automap_base\n",
    "from sqlalchemy.orm import Session\n",
    "from sqlalchemy import create_engine, func, text, inspect\n",
    "\n",
    "from sqlalchemy.ext.declarative import declarative_base"
   ]
  },
  {
   "cell_type": "code",
   "execution_count": 2,
   "id": "1e56eec7-f6b6-471d-a261-aea2e48d32dd",
   "metadata": {},
   "outputs": [],
   "source": [
    "# Connection stuff\n",
    "engine = create_engine(\"sqlite:///meteorites.sqlite\")\n",
    "Base = automap_base()\n",
    "\n",
    "# reflect the tables\n",
    "Base.prepare(autoload_with=engine)"
   ]
  },
  {
   "cell_type": "code",
   "execution_count": 3,
   "id": "42afef36-9bf8-430e-9c62-ee699acacf67",
   "metadata": {},
   "outputs": [],
   "source": [
    "# Create our session (link) from Python to the DB\n",
    "session = Session(engine)\n",
    "conn = engine.connect()"
   ]
  },
  {
   "cell_type": "code",
   "execution_count": 4,
   "id": "054dd3dd-04a9-4a1f-98f0-9a79fede2f73",
   "metadata": {},
   "outputs": [],
   "source": [
    "# Create an inspector object\n",
    "inspector = inspect(engine)\n",
    "\n",
    "# Get column information for a specific table (e.g., 'users')\n",
    "table_name = 'meteorites'"
   ]
  },
  {
   "cell_type": "code",
   "execution_count": 5,
   "id": "58281988-a405-4ed9-add8-3cbeefa8065d",
   "metadata": {},
   "outputs": [
    {
     "data": {
      "text/html": [
       "<div>\n",
       "<style scoped>\n",
       "    .dataframe tbody tr th:only-of-type {\n",
       "        vertical-align: middle;\n",
       "    }\n",
       "\n",
       "    .dataframe tbody tr th {\n",
       "        vertical-align: top;\n",
       "    }\n",
       "\n",
       "    .dataframe thead th {\n",
       "        text-align: right;\n",
       "    }\n",
       "</style>\n",
       "<table border=\"1\" class=\"dataframe\">\n",
       "  <thead>\n",
       "    <tr style=\"text-align: right;\">\n",
       "      <th></th>\n",
       "      <th>id</th>\n",
       "      <th>rec_class</th>\n",
       "      <th>mass</th>\n",
       "      <th>year</th>\n",
       "      <th>rec_lat</th>\n",
       "      <th>rec_long</th>\n",
       "    </tr>\n",
       "  </thead>\n",
       "  <tbody>\n",
       "    <tr>\n",
       "      <th>0</th>\n",
       "      <td>9375</td>\n",
       "      <td>L6</td>\n",
       "      <td>68.80</td>\n",
       "      <td>1990</td>\n",
       "      <td>-76.269620</td>\n",
       "      <td>156.440560</td>\n",
       "    </tr>\n",
       "    <tr>\n",
       "      <th>1</th>\n",
       "      <td>1587</td>\n",
       "      <td>L6</td>\n",
       "      <td>142.70</td>\n",
       "      <td>1977</td>\n",
       "      <td>-76.716670</td>\n",
       "      <td>159.666670</td>\n",
       "    </tr>\n",
       "    <tr>\n",
       "      <th>2</th>\n",
       "      <td>29422</td>\n",
       "      <td>H4</td>\n",
       "      <td>6.91</td>\n",
       "      <td>1983</td>\n",
       "      <td>-71.500000</td>\n",
       "      <td>35.666670</td>\n",
       "    </tr>\n",
       "    <tr>\n",
       "      <th>3</th>\n",
       "      <td>11895</td>\n",
       "      <td>Stone-uncl</td>\n",
       "      <td>1415.00</td>\n",
       "      <td>1923</td>\n",
       "      <td>9.066670</td>\n",
       "      <td>38.416670</td>\n",
       "    </tr>\n",
       "    <tr>\n",
       "      <th>4</th>\n",
       "      <td>49586</td>\n",
       "      <td>L5</td>\n",
       "      <td>325.20</td>\n",
       "      <td>2006</td>\n",
       "      <td>-85.766667</td>\n",
       "      <td>179.383333</td>\n",
       "    </tr>\n",
       "    <tr>\n",
       "      <th>...</th>\n",
       "      <td>...</td>\n",
       "      <td>...</td>\n",
       "      <td>...</td>\n",
       "      <td>...</td>\n",
       "      <td>...</td>\n",
       "      <td>...</td>\n",
       "    </tr>\n",
       "    <tr>\n",
       "      <th>100495</th>\n",
       "      <td>51286</td>\n",
       "      <td>L6</td>\n",
       "      <td>5.70</td>\n",
       "      <td>2007</td>\n",
       "      <td>-83.250000</td>\n",
       "      <td>157.000000</td>\n",
       "    </tr>\n",
       "    <tr>\n",
       "      <th>100496</th>\n",
       "      <td>45047</td>\n",
       "      <td>L6</td>\n",
       "      <td>30.50</td>\n",
       "      <td>2004</td>\n",
       "      <td>-86.366670</td>\n",
       "      <td>-70.000000</td>\n",
       "    </tr>\n",
       "    <tr>\n",
       "      <th>100497</th>\n",
       "      <td>28003</td>\n",
       "      <td>H4/5</td>\n",
       "      <td>1.89</td>\n",
       "      <td>1979</td>\n",
       "      <td>-71.500000</td>\n",
       "      <td>35.666670</td>\n",
       "    </tr>\n",
       "    <tr>\n",
       "      <th>100498</th>\n",
       "      <td>19986</td>\n",
       "      <td>L4</td>\n",
       "      <td>9.50</td>\n",
       "      <td>1994</td>\n",
       "      <td>-84.000000</td>\n",
       "      <td>168.000000</td>\n",
       "    </tr>\n",
       "    <tr>\n",
       "      <th>100499</th>\n",
       "      <td>55426</td>\n",
       "      <td>L6</td>\n",
       "      <td>24.71</td>\n",
       "      <td>2010</td>\n",
       "      <td>21.110730</td>\n",
       "      <td>55.531470</td>\n",
       "    </tr>\n",
       "  </tbody>\n",
       "</table>\n",
       "<p>100500 rows × 6 columns</p>\n",
       "</div>"
      ],
      "text/plain": [
       "           id   rec_class     mass  year    rec_lat    rec_long\n",
       "0        9375          L6    68.80  1990 -76.269620  156.440560\n",
       "1        1587          L6   142.70  1977 -76.716670  159.666670\n",
       "2       29422          H4     6.91  1983 -71.500000   35.666670\n",
       "3       11895  Stone-uncl  1415.00  1923   9.066670   38.416670\n",
       "4       49586          L5   325.20  2006 -85.766667  179.383333\n",
       "...       ...         ...      ...   ...        ...         ...\n",
       "100495  51286          L6     5.70  2007 -83.250000  157.000000\n",
       "100496  45047          L6    30.50  2004 -86.366670  -70.000000\n",
       "100497  28003        H4/5     1.89  1979 -71.500000   35.666670\n",
       "100498  19986          L4     9.50  1994 -84.000000  168.000000\n",
       "100499  55426          L6    24.71  2010  21.110730   55.531470\n",
       "\n",
       "[100500 rows x 6 columns]"
      ]
     },
     "execution_count": 5,
     "metadata": {},
     "output_type": "execute_result"
    }
   ],
   "source": [
    "# Query the database to get all rows and columns\n",
    "query = f\"SELECT * FROM {table_name}\"\n",
    "\n",
    "# Use Pandas to directly read from the SQL query and create a DataFrame\n",
    "df = pd.read_sql(query, engine)\n",
    "\n",
    "df"
   ]
  },
  {
   "cell_type": "code",
   "execution_count": 6,
   "id": "d26a8e0f-1586-4e6c-bf7c-b1037d6c7426",
   "metadata": {},
   "outputs": [
    {
     "data": {
      "text/html": [
       "<div>\n",
       "<style scoped>\n",
       "    .dataframe tbody tr th:only-of-type {\n",
       "        vertical-align: middle;\n",
       "    }\n",
       "\n",
       "    .dataframe tbody tr th {\n",
       "        vertical-align: top;\n",
       "    }\n",
       "\n",
       "    .dataframe thead th {\n",
       "        text-align: right;\n",
       "    }\n",
       "</style>\n",
       "<table border=\"1\" class=\"dataframe\">\n",
       "  <thead>\n",
       "    <tr style=\"text-align: right;\">\n",
       "      <th></th>\n",
       "      <th>year</th>\n",
       "      <th>num_meteorites</th>\n",
       "    </tr>\n",
       "  </thead>\n",
       "  <tbody>\n",
       "    <tr>\n",
       "      <th>0</th>\n",
       "      <td>1901</td>\n",
       "      <td>20</td>\n",
       "    </tr>\n",
       "    <tr>\n",
       "      <th>1</th>\n",
       "      <td>1902</td>\n",
       "      <td>31</td>\n",
       "    </tr>\n",
       "    <tr>\n",
       "      <th>2</th>\n",
       "      <td>1903</td>\n",
       "      <td>48</td>\n",
       "    </tr>\n",
       "    <tr>\n",
       "      <th>3</th>\n",
       "      <td>1904</td>\n",
       "      <td>28</td>\n",
       "    </tr>\n",
       "    <tr>\n",
       "      <th>4</th>\n",
       "      <td>1905</td>\n",
       "      <td>29</td>\n",
       "    </tr>\n",
       "    <tr>\n",
       "      <th>...</th>\n",
       "      <td>...</td>\n",
       "      <td>...</td>\n",
       "    </tr>\n",
       "    <tr>\n",
       "      <th>108</th>\n",
       "      <td>2009</td>\n",
       "      <td>3399</td>\n",
       "    </tr>\n",
       "    <tr>\n",
       "      <th>109</th>\n",
       "      <td>2010</td>\n",
       "      <td>2319</td>\n",
       "    </tr>\n",
       "    <tr>\n",
       "      <th>110</th>\n",
       "      <td>2011</td>\n",
       "      <td>1616</td>\n",
       "    </tr>\n",
       "    <tr>\n",
       "      <th>111</th>\n",
       "      <td>2012</td>\n",
       "      <td>549</td>\n",
       "    </tr>\n",
       "    <tr>\n",
       "      <th>112</th>\n",
       "      <td>2013</td>\n",
       "      <td>28</td>\n",
       "    </tr>\n",
       "  </tbody>\n",
       "</table>\n",
       "<p>113 rows × 2 columns</p>\n",
       "</div>"
      ],
      "text/plain": [
       "     year  num_meteorites\n",
       "0    1901              20\n",
       "1    1902              31\n",
       "2    1903              48\n",
       "3    1904              28\n",
       "4    1905              29\n",
       "..    ...             ...\n",
       "108  2009            3399\n",
       "109  2010            2319\n",
       "110  2011            1616\n",
       "111  2012             549\n",
       "112  2013              28\n",
       "\n",
       "[113 rows x 2 columns]"
      ]
     },
     "execution_count": 6,
     "metadata": {},
     "output_type": "execute_result"
    }
   ],
   "source": [
    "query = f\"\"\"SELECT year, COUNT(*) AS num_meteorites\n",
    "FROM meteorites\n",
    "WHERE year > 1900\n",
    "GROUP BY year\n",
    "ORDER BY year;\n",
    "\"\"\"\n",
    "year_df = pd.read_sql(query, engine)\n",
    "year_df"
   ]
  },
  {
   "cell_type": "code",
   "execution_count": 28,
   "id": "4473da0c-277c-482c-b868-7e96e623cfb7",
   "metadata": {},
   "outputs": [
    {
     "data": {
      "text/html": [
       "<div>\n",
       "<style scoped>\n",
       "    .dataframe tbody tr th:only-of-type {\n",
       "        vertical-align: middle;\n",
       "    }\n",
       "\n",
       "    .dataframe tbody tr th {\n",
       "        vertical-align: top;\n",
       "    }\n",
       "\n",
       "    .dataframe thead th {\n",
       "        text-align: right;\n",
       "    }\n",
       "</style>\n",
       "<table border=\"1\" class=\"dataframe\">\n",
       "  <thead>\n",
       "    <tr style=\"text-align: right;\">\n",
       "      <th></th>\n",
       "      <th>rec_class</th>\n",
       "      <th>num_meteorites</th>\n",
       "    </tr>\n",
       "  </thead>\n",
       "  <tbody>\n",
       "    <tr>\n",
       "      <th>0</th>\n",
       "      <td>Acapulcoite</td>\n",
       "      <td>127</td>\n",
       "    </tr>\n",
       "    <tr>\n",
       "      <th>1</th>\n",
       "      <td>Achondrite-ung</td>\n",
       "      <td>130</td>\n",
       "    </tr>\n",
       "    <tr>\n",
       "      <th>2</th>\n",
       "      <td>Aubrite</td>\n",
       "      <td>141</td>\n",
       "    </tr>\n",
       "    <tr>\n",
       "      <th>3</th>\n",
       "      <td>CK4</td>\n",
       "      <td>169</td>\n",
       "    </tr>\n",
       "    <tr>\n",
       "      <th>4</th>\n",
       "      <td>CK5</td>\n",
       "      <td>210</td>\n",
       "    </tr>\n",
       "    <tr>\n",
       "      <th>...</th>\n",
       "      <td>...</td>\n",
       "      <td>...</td>\n",
       "    </tr>\n",
       "    <tr>\n",
       "      <th>60</th>\n",
       "      <td>L~6</td>\n",
       "      <td>214</td>\n",
       "    </tr>\n",
       "    <tr>\n",
       "      <th>61</th>\n",
       "      <td>Martian (shergottite)</td>\n",
       "      <td>207</td>\n",
       "    </tr>\n",
       "    <tr>\n",
       "      <th>62</th>\n",
       "      <td>Mesosiderite</td>\n",
       "      <td>294</td>\n",
       "    </tr>\n",
       "    <tr>\n",
       "      <th>63</th>\n",
       "      <td>OC</td>\n",
       "      <td>159</td>\n",
       "    </tr>\n",
       "    <tr>\n",
       "      <th>64</th>\n",
       "      <td>Ureilite</td>\n",
       "      <td>677</td>\n",
       "    </tr>\n",
       "  </tbody>\n",
       "</table>\n",
       "<p>65 rows × 2 columns</p>\n",
       "</div>"
      ],
      "text/plain": [
       "                rec_class  num_meteorites\n",
       "0             Acapulcoite             127\n",
       "1          Achondrite-ung             130\n",
       "2                 Aubrite             141\n",
       "3                     CK4             169\n",
       "4                     CK5             210\n",
       "..                    ...             ...\n",
       "60                    L~6             214\n",
       "61  Martian (shergottite)             207\n",
       "62           Mesosiderite             294\n",
       "63                     OC             159\n",
       "64               Ureilite             677\n",
       "\n",
       "[65 rows x 2 columns]"
      ]
     },
     "execution_count": 28,
     "metadata": {},
     "output_type": "execute_result"
    }
   ],
   "source": [
    "query = f\"\"\"SELECT rec_class, COUNT(*) AS num_meteorites\n",
    "FROM meteorites\n",
    "GROUP BY rec_class\n",
    "HAVING COUNT(*) > 100;\n",
    "\"\"\"\n",
    "rec_class_df = pd.read_sql(query, engine)\n",
    "rec_class_df"
   ]
  },
  {
   "cell_type": "code",
   "execution_count": 9,
   "id": "80ddf570-392c-420f-b7b7-02da2fada5a5",
   "metadata": {},
   "outputs": [
    {
     "data": {
      "image/png": "[encoded data removed]",
      "text/plain": [
       "<Figure size 1200x600 with 1 Axes>"
      ]
     },
     "metadata": {},
     "output_type": "display_data"
    }
   ],
   "source": [
    "plt.figure(figsize=(12, 6))  # Set the figure size for better readability\n",
    "plt.bar(year_df['year'], year_df['num_meteorites'], color='skyblue')\n",
    "\n",
    "# Adding titles and labels\n",
    "plt.title('Number of Meteorites Fallen Per Year (After 1900)', fontsize=16)\n",
    "plt.xlabel('Year', fontsize=14)\n",
    "plt.ylabel('Number of Meteorites', fontsize=14)\n",
    "\n",
    "# Rotate x-axis labels for better readability\n",
    "plt.xticks(rotation=45)\n",
    "\n",
    "# Show the plot\n",
    "plt.tight_layout()  # Adjust layout to fit labels better\n",
    "plt.show()"
   ]
  },
  {
   "cell_type": "code",
   "execution_count": 10,
   "id": "f71a6507-53c0-4b8b-a4e3-a01d23801f32",
   "metadata": {},
   "outputs": [
    {
     "data": {
      "text/html": [
       "<div>\n",
       "<style scoped>\n",
       "    .dataframe tbody tr th:only-of-type {\n",
       "        vertical-align: middle;\n",
       "    }\n",
       "\n",
       "    .dataframe tbody tr th {\n",
       "        vertical-align: top;\n",
       "    }\n",
       "\n",
       "    .dataframe thead th {\n",
       "        text-align: right;\n",
       "    }\n",
       "</style>\n",
       "<table border=\"1\" class=\"dataframe\">\n",
       "  <thead>\n",
       "    <tr style=\"text-align: right;\">\n",
       "      <th></th>\n",
       "      <th>year</th>\n",
       "      <th>num_meteorites</th>\n",
       "    </tr>\n",
       "  </thead>\n",
       "  <tbody>\n",
       "    <tr>\n",
       "      <th>0</th>\n",
       "      <td>1961</td>\n",
       "      <td>65</td>\n",
       "    </tr>\n",
       "    <tr>\n",
       "      <th>1</th>\n",
       "      <td>1962</td>\n",
       "      <td>78</td>\n",
       "    </tr>\n",
       "    <tr>\n",
       "      <th>2</th>\n",
       "      <td>1963</td>\n",
       "      <td>77</td>\n",
       "    </tr>\n",
       "    <tr>\n",
       "      <th>3</th>\n",
       "      <td>1964</td>\n",
       "      <td>76</td>\n",
       "    </tr>\n",
       "    <tr>\n",
       "      <th>4</th>\n",
       "      <td>1965</td>\n",
       "      <td>101</td>\n",
       "    </tr>\n",
       "    <tr>\n",
       "      <th>5</th>\n",
       "      <td>1966</td>\n",
       "      <td>56</td>\n",
       "    </tr>\n",
       "    <tr>\n",
       "      <th>6</th>\n",
       "      <td>1967</td>\n",
       "      <td>76</td>\n",
       "    </tr>\n",
       "    <tr>\n",
       "      <th>7</th>\n",
       "      <td>1968</td>\n",
       "      <td>122</td>\n",
       "    </tr>\n",
       "    <tr>\n",
       "      <th>8</th>\n",
       "      <td>1969</td>\n",
       "      <td>150</td>\n",
       "    </tr>\n",
       "    <tr>\n",
       "      <th>9</th>\n",
       "      <td>1970</td>\n",
       "      <td>103</td>\n",
       "    </tr>\n",
       "    <tr>\n",
       "      <th>10</th>\n",
       "      <td>1971</td>\n",
       "      <td>109</td>\n",
       "    </tr>\n",
       "    <tr>\n",
       "      <th>11</th>\n",
       "      <td>1972</td>\n",
       "      <td>61</td>\n",
       "    </tr>\n",
       "    <tr>\n",
       "      <th>12</th>\n",
       "      <td>1973</td>\n",
       "      <td>66</td>\n",
       "    </tr>\n",
       "    <tr>\n",
       "      <th>13</th>\n",
       "      <td>1974</td>\n",
       "      <td>1570</td>\n",
       "    </tr>\n",
       "    <tr>\n",
       "      <th>14</th>\n",
       "      <td>1975</td>\n",
       "      <td>781</td>\n",
       "    </tr>\n",
       "    <tr>\n",
       "      <th>15</th>\n",
       "      <td>1976</td>\n",
       "      <td>118</td>\n",
       "    </tr>\n",
       "    <tr>\n",
       "      <th>16</th>\n",
       "      <td>1977</td>\n",
       "      <td>949</td>\n",
       "    </tr>\n",
       "    <tr>\n",
       "      <th>17</th>\n",
       "      <td>1978</td>\n",
       "      <td>592</td>\n",
       "    </tr>\n",
       "    <tr>\n",
       "      <th>18</th>\n",
       "      <td>1979</td>\n",
       "      <td>6944</td>\n",
       "    </tr>\n",
       "    <tr>\n",
       "      <th>19</th>\n",
       "      <td>1980</td>\n",
       "      <td>332</td>\n",
       "    </tr>\n",
       "    <tr>\n",
       "      <th>20</th>\n",
       "      <td>1981</td>\n",
       "      <td>1034</td>\n",
       "    </tr>\n",
       "    <tr>\n",
       "      <th>21</th>\n",
       "      <td>1982</td>\n",
       "      <td>770</td>\n",
       "    </tr>\n",
       "    <tr>\n",
       "      <th>22</th>\n",
       "      <td>1983</td>\n",
       "      <td>810</td>\n",
       "    </tr>\n",
       "    <tr>\n",
       "      <th>23</th>\n",
       "      <td>1984</td>\n",
       "      <td>920</td>\n",
       "    </tr>\n",
       "    <tr>\n",
       "      <th>24</th>\n",
       "      <td>1985</td>\n",
       "      <td>847</td>\n",
       "    </tr>\n",
       "    <tr>\n",
       "      <th>25</th>\n",
       "      <td>1986</td>\n",
       "      <td>3138</td>\n",
       "    </tr>\n",
       "    <tr>\n",
       "      <th>26</th>\n",
       "      <td>1987</td>\n",
       "      <td>2113</td>\n",
       "    </tr>\n",
       "    <tr>\n",
       "      <th>27</th>\n",
       "      <td>1988</td>\n",
       "      <td>5266</td>\n",
       "    </tr>\n",
       "    <tr>\n",
       "      <th>28</th>\n",
       "      <td>1989</td>\n",
       "      <td>304</td>\n",
       "    </tr>\n",
       "    <tr>\n",
       "      <th>29</th>\n",
       "      <td>1990</td>\n",
       "      <td>3443</td>\n",
       "    </tr>\n",
       "    <tr>\n",
       "      <th>30</th>\n",
       "      <td>1991</td>\n",
       "      <td>1975</td>\n",
       "    </tr>\n",
       "    <tr>\n",
       "      <th>31</th>\n",
       "      <td>1992</td>\n",
       "      <td>839</td>\n",
       "    </tr>\n",
       "    <tr>\n",
       "      <th>32</th>\n",
       "      <td>1993</td>\n",
       "      <td>2243</td>\n",
       "    </tr>\n",
       "    <tr>\n",
       "      <th>33</th>\n",
       "      <td>1994</td>\n",
       "      <td>1625</td>\n",
       "    </tr>\n",
       "    <tr>\n",
       "      <th>34</th>\n",
       "      <td>1995</td>\n",
       "      <td>1092</td>\n",
       "    </tr>\n",
       "    <tr>\n",
       "      <th>35</th>\n",
       "      <td>1996</td>\n",
       "      <td>1330</td>\n",
       "    </tr>\n",
       "    <tr>\n",
       "      <th>36</th>\n",
       "      <td>1997</td>\n",
       "      <td>3893</td>\n",
       "    </tr>\n",
       "    <tr>\n",
       "      <th>37</th>\n",
       "      <td>1998</td>\n",
       "      <td>6140</td>\n",
       "    </tr>\n",
       "    <tr>\n",
       "      <th>38</th>\n",
       "      <td>1999</td>\n",
       "      <td>3811</td>\n",
       "    </tr>\n",
       "    <tr>\n",
       "      <th>39</th>\n",
       "      <td>2000</td>\n",
       "      <td>4063</td>\n",
       "    </tr>\n",
       "    <tr>\n",
       "      <th>40</th>\n",
       "      <td>2001</td>\n",
       "      <td>3753</td>\n",
       "    </tr>\n",
       "    <tr>\n",
       "      <th>41</th>\n",
       "      <td>2002</td>\n",
       "      <td>3874</td>\n",
       "    </tr>\n",
       "    <tr>\n",
       "      <th>42</th>\n",
       "      <td>2003</td>\n",
       "      <td>6912</td>\n",
       "    </tr>\n",
       "    <tr>\n",
       "      <th>43</th>\n",
       "      <td>2004</td>\n",
       "      <td>2857</td>\n",
       "    </tr>\n",
       "    <tr>\n",
       "      <th>44</th>\n",
       "      <td>2005</td>\n",
       "      <td>1857</td>\n",
       "    </tr>\n",
       "    <tr>\n",
       "      <th>45</th>\n",
       "      <td>2006</td>\n",
       "      <td>5502</td>\n",
       "    </tr>\n",
       "    <tr>\n",
       "      <th>46</th>\n",
       "      <td>2007</td>\n",
       "      <td>2698</td>\n",
       "    </tr>\n",
       "    <tr>\n",
       "      <th>47</th>\n",
       "      <td>2008</td>\n",
       "      <td>2182</td>\n",
       "    </tr>\n",
       "    <tr>\n",
       "      <th>48</th>\n",
       "      <td>2009</td>\n",
       "      <td>3399</td>\n",
       "    </tr>\n",
       "    <tr>\n",
       "      <th>49</th>\n",
       "      <td>2010</td>\n",
       "      <td>2319</td>\n",
       "    </tr>\n",
       "    <tr>\n",
       "      <th>50</th>\n",
       "      <td>2011</td>\n",
       "      <td>1616</td>\n",
       "    </tr>\n",
       "    <tr>\n",
       "      <th>51</th>\n",
       "      <td>2012</td>\n",
       "      <td>549</td>\n",
       "    </tr>\n",
       "    <tr>\n",
       "      <th>52</th>\n",
       "      <td>2013</td>\n",
       "      <td>28</td>\n",
       "    </tr>\n",
       "  </tbody>\n",
       "</table>\n",
       "</div>"
      ],
      "text/plain": [
       "    year  num_meteorites\n",
       "0   1961              65\n",
       "1   1962              78\n",
       "2   1963              77\n",
       "3   1964              76\n",
       "4   1965             101\n",
       "5   1966              56\n",
       "6   1967              76\n",
       "7   1968             122\n",
       "8   1969             150\n",
       "9   1970             103\n",
       "10  1971             109\n",
       "11  1972              61\n",
       "12  1973              66\n",
       "13  1974            1570\n",
       "14  1975             781\n",
       "15  1976             118\n",
       "16  1977             949\n",
       "17  1978             592\n",
       "18  1979            6944\n",
       "19  1980             332\n",
       "20  1981            1034\n",
       "21  1982             770\n",
       "22  1983             810\n",
       "23  1984             920\n",
       "24  1985             847\n",
       "25  1986            3138\n",
       "26  1987            2113\n",
       "27  1988            5266\n",
       "28  1989             304\n",
       "29  1990            3443\n",
       "30  1991            1975\n",
       "31  1992             839\n",
       "32  1993            2243\n",
       "33  1994            1625\n",
       "34  1995            1092\n",
       "35  1996            1330\n",
       "36  1997            3893\n",
       "37  1998            6140\n",
       "38  1999            3811\n",
       "39  2000            4063\n",
       "40  2001            3753\n",
       "41  2002            3874\n",
       "42  2003            6912\n",
       "43  2004            2857\n",
       "44  2005            1857\n",
       "45  2006            5502\n",
       "46  2007            2698\n",
       "47  2008            2182\n",
       "48  2009            3399\n",
       "49  2010            2319\n",
       "50  2011            1616\n",
       "51  2012             549\n",
       "52  2013              28"
      ]
     },
     "execution_count": 10,
     "metadata": {},
     "output_type": "execute_result"
    }
   ],
   "source": [
    "query = f\"\"\"SELECT year, COUNT(*) AS num_meteorites\n",
    "FROM meteorites\n",
    "WHERE year > 1960\n",
    "GROUP BY year\n",
    "ORDER BY year;\n",
    "\"\"\"\n",
    "year_df2 = pd.read_sql(query, engine)\n",
    "year_df2"
   ]
  },
  {
   "cell_type": "code",
   "execution_count": 17,
   "id": "713a0da6-4a3c-4ecb-ae9a-d41ff9ced301",
   "metadata": {},
   "outputs": [
    {
     "data": {
      "image/png": "[encoded data removed]",
      "text/plain": [
       "<Figure size 1200x600 with 1 Axes>"
      ]
     },
     "metadata": {},
     "output_type": "display_data"
    }
   ],
   "source": [
    "plt.figure(figsize=(12, 6))  # Set the figure size for better readability\n",
    "plt.bar(year_df2['year'], year_df2['num_meteorites'], color='skyblue')\n",
    "\n",
    "# Adding titles and labels\n",
    "plt.title('Number of Meteorites Fallen Per Year (After 1900)', fontsize=16)\n",
    "plt.xlabel('Year', fontsize=14)\n",
    "plt.ylabel('Number of Meteorites', fontsize=14)\n",
    "\n",
    "# Rotate x-axis labels for better readability\n",
    "plt.xticks(rotation=45)\n",
    "\n",
    "# Show the plot\n",
    "plt.tight_layout()  # Adjust layout to fit labels better\n",
    "plt.show()"
   ]
  },
  {
   "cell_type": "code",
   "execution_count": 29,
   "id": "d68bab9a-9416-4aea-8802-37e07460a5b0",
   "metadata": {},
   "outputs": [
    {
     "data": {
      "image/png": "[encoded data removed]",
      "text/plain": [
       "<Figure size 1200x600 with 1 Axes>"
      ]
     },
     "metadata": {},
     "output_type": "display_data"
    }
   ],
   "source": [
    "plt.figure(figsize=(12, 6))  # Set the figure size for better readability\n",
    "plt.bar(rec_class_df['rec_class'], rec_class_df['num_meteorites'], color='salmon')\n",
    "\n",
    "# Adding titles and labels\n",
    "plt.title('Number of Meteorites per Classification', fontsize=16)\n",
    "plt.xlabel('Classification', fontsize=14)\n",
    "plt.ylabel('Number of Meteorites', fontsize=14)\n",
    "\n",
    "# Rotate x-axis labels for better readability (if necessary)\n",
    "plt.xticks(rotation=90)  # Rotate by 90 degrees if the names are long\n",
    "\n",
    "# Show the plot\n",
    "plt.tight_layout()  # Adjust layout to fit labels better\n",
    "plt.show()"
   ]
  },
  {
   "cell_type": "code",
   "execution_count": null,
   "id": "014141a4-a3d1-4e96-94c9-bfeb8dc256a4",
   "metadata": {},
   "outputs": [],
   "source": [
    "# Class data too much for pie chart unless we cut it down\n",
    "# Not many meteor falls in earlier years\n",
    "# Not many classes with over 400 meteor falls"
   ]
  },
  {
   "cell_type": "code",
   "execution_count": 37,
   "id": "a6d02869-38f7-498f-882b-d4c8da742c31",
   "metadata": {},
   "outputs": [
    {
     "data": {
      "text/html": [
       "<div>\n",
       "<style scoped>\n",
       "    .dataframe tbody tr th:only-of-type {\n",
       "        vertical-align: middle;\n",
       "    }\n",
       "\n",
       "    .dataframe tbody tr th {\n",
       "        vertical-align: top;\n",
       "    }\n",
       "\n",
       "    .dataframe thead th {\n",
       "        text-align: right;\n",
       "    }\n",
       "</style>\n",
       "<table border=\"1\" class=\"dataframe\">\n",
       "  <thead>\n",
       "    <tr style=\"text-align: right;\">\n",
       "      <th></th>\n",
       "      <th>rec_class</th>\n",
       "      <th>year</th>\n",
       "      <th>num_meteorites</th>\n",
       "    </tr>\n",
       "  </thead>\n",
       "  <tbody>\n",
       "    <tr>\n",
       "      <th>0</th>\n",
       "      <td>H4</td>\n",
       "      <td>1974</td>\n",
       "      <td>121</td>\n",
       "    </tr>\n",
       "    <tr>\n",
       "      <th>1</th>\n",
       "      <td>H5</td>\n",
       "      <td>1974</td>\n",
       "      <td>550</td>\n",
       "    </tr>\n",
       "    <tr>\n",
       "      <th>2</th>\n",
       "      <td>H6</td>\n",
       "      <td>1974</td>\n",
       "      <td>494</td>\n",
       "    </tr>\n",
       "    <tr>\n",
       "      <th>3</th>\n",
       "      <td>L6</td>\n",
       "      <td>1974</td>\n",
       "      <td>176</td>\n",
       "    </tr>\n",
       "    <tr>\n",
       "      <th>4</th>\n",
       "      <td>L6</td>\n",
       "      <td>1975</td>\n",
       "      <td>492</td>\n",
       "    </tr>\n",
       "    <tr>\n",
       "      <th>...</th>\n",
       "      <td>...</td>\n",
       "      <td>...</td>\n",
       "      <td>...</td>\n",
       "    </tr>\n",
       "    <tr>\n",
       "      <th>173</th>\n",
       "      <td>LL6</td>\n",
       "      <td>2010</td>\n",
       "      <td>217</td>\n",
       "    </tr>\n",
       "    <tr>\n",
       "      <th>174</th>\n",
       "      <td>H4</td>\n",
       "      <td>2011</td>\n",
       "      <td>181</td>\n",
       "    </tr>\n",
       "    <tr>\n",
       "      <th>175</th>\n",
       "      <td>H5</td>\n",
       "      <td>2011</td>\n",
       "      <td>231</td>\n",
       "    </tr>\n",
       "    <tr>\n",
       "      <th>176</th>\n",
       "      <td>H6</td>\n",
       "      <td>2011</td>\n",
       "      <td>120</td>\n",
       "    </tr>\n",
       "    <tr>\n",
       "      <th>177</th>\n",
       "      <td>L6</td>\n",
       "      <td>2011</td>\n",
       "      <td>266</td>\n",
       "    </tr>\n",
       "  </tbody>\n",
       "</table>\n",
       "<p>178 rows × 3 columns</p>\n",
       "</div>"
      ],
      "text/plain": [
       "    rec_class  year  num_meteorites\n",
       "0          H4  1974             121\n",
       "1          H5  1974             550\n",
       "2          H6  1974             494\n",
       "3          L6  1974             176\n",
       "4          L6  1975             492\n",
       "..        ...   ...             ...\n",
       "173       LL6  2010             217\n",
       "174        H4  2011             181\n",
       "175        H5  2011             231\n",
       "176        H6  2011             120\n",
       "177        L6  2011             266\n",
       "\n",
       "[178 rows x 3 columns]"
      ]
     },
     "execution_count": 37,
     "metadata": {},
     "output_type": "execute_result"
    }
   ],
   "source": [
    "query = f\"\"\"\n",
    "SELECT rec_class, year, COUNT(*) AS num_meteorites\n",
    "FROM meteorites\n",
    "GROUP BY rec_class, year\n",
    "HAVING COUNT(*) > 100\n",
    "ORDER BY year;\n",
    "\"\"\"\n",
    "rec_class_df2 = pd.read_sql(query, engine)\n",
    "rec_class_df2\n"
   ]
  },
  {
   "cell_type": "code",
   "execution_count": 38,
   "id": "3e84597c-ebc1-42bc-a49f-5ba801e8a223",
   "metadata": {},
   "outputs": [
    {
     "data": {
      "application/vnd.plotly.v1+json": {
       "config": {
        "plotlyServerURL": "https://plot.ly"
       },
       "data": [
        {
         "branchvalues": "total",
         "domain": {
          "x": [
           0,
           1
          ],
          "y": [
           0,
           1
          ]
         },
         "hovertemplate": "labels=%{label}<br>num_meteorites=%{value}<br>parent=%{parent}<br>id=%{id}<extra></extra>",
         "ids": [
          "H4/1974",
          "H5/1974",
          "H6/1974",
          "L6/1974",
          "L6/1975",
          "H4/1977",
          "H5/1977",
          "L6/1977",
          "H5/1978",
          "E3/1979",
          "H4/1979",
          "H4/5/1979",
          "H5/1979",
          "H6/1979",
          "L4/1979",
          "L5/1979",
          "L6/1979",
          "LL/1979",
          "LL6/1979",
          "H4/1981",
          "H5/1981",
          "H6/1981",
          "L6/1981",
          "H5/1982",
          "L6/1982",
          "H5/1983",
          "L6/1983",
          "H5/1984",
          "L6/1984",
          "H5/1985",
          "H6/1985",
          "L6/1985",
          "H4/1986",
          "H5/1986",
          "H6/1986",
          "L6/1986",
          "H4/1987",
          "H5/1987",
          "H6/1987",
          "L6/1987",
          "H4/1988",
          "H5/1988",
          "H6/1988",
          "L5/1988",
          "L6/1988",
          "LL6/1988",
          "H5/1990",
          "H6/1990",
          "L5/1990",
          "L6/1990",
          "H5/1991",
          "H6/1991",
          "L5/1991",
          "L6/1991",
          "H5/1992",
          "L6/1992",
          "H5/1993",
          "H6/1993",
          "L5/1993",
          "L6/1993",
          "H5/1994",
          "H6/1994",
          "L5/1994",
          "L6/1994",
          "H5/1995",
          "H6/1995",
          "L6/1995",
          "H5/1996",
          "H6/1996",
          "L6/1996",
          "EH3/1997",
          "H4/1997",
          "H5/1997",
          "H6/1997",
          "L5/1997",
          "L6/1997",
          "LL5/1997",
          "LL6/1997",
          "H3/1998",
          "H4/1998",
          "H5/1998",
          "H6/1998",
          "L3/1998",
          "L4/1998",
          "L5/1998",
          "L6/1998",
          "LL-melt breccia/1998",
          "LL6/1998",
          "H4/1999",
          "H5/1999",
          "H6/1999",
          "L5/1999",
          "L6/1999",
          "LL5/1999",
          "H4/2000",
          "H5/2000",
          "H6/2000",
          "L4/2000",
          "L5/2000",
          "L6/2000",
          "LL5/2000",
          "LL6/2000",
          "H3/2001",
          "H4/2001",
          "H5/2001",
          "H5/6/2001",
          "H6/2001",
          "L4/2001",
          "L5/2001",
          "L6/2001",
          "LL5/2001",
          "LL6/2001",
          "H4/2002",
          "H5/2002",
          "H6/2002",
          "L4/2002",
          "L5/2002",
          "L6/2002",
          "LL5/2002",
          "LL6/2002",
          "H4/2003",
          "H5/2003",
          "H6/2003",
          "L4/2003",
          "L5/2003",
          "L6/2003",
          "LL5/2003",
          "LL6/2003",
          "H4/2004",
          "H5/2004",
          "H6/2004",
          "L4/2004",
          "L5/2004",
          "L6/2004",
          "LL5/2004",
          "LL6/2004",
          "H4/2005",
          "H5/2005",
          "L5/2005",
          "L6/2005",
          "H4/2006",
          "H5/2006",
          "H6/2006",
          "L4/2006",
          "L5/2006",
          "L6/2006",
          "LL5/2006",
          "LL6/2006",
          "CO3/2007",
          "H5/2007",
          "H6/2007",
          "L5/2007",
          "L6/2007",
          "LL6/2007",
          "H5/2008",
          "H6/2008",
          "L5/2008",
          "L6/2008",
          "LL5/2008",
          "LL6/2008",
          "CO3/2009",
          "H5/2009",
          "H6/2009",
          "L5/2009",
          "L6/2009",
          "LL5/2009",
          "LL6/2009",
          "H4/2010",
          "H5/2010",
          "H6/2010",
          "L5/2010",
          "L6/2010",
          "LL5/2010",
          "LL6/2010",
          "H4/2011",
          "H5/2011",
          "H6/2011",
          "L6/2011",
          "CO3",
          "E3",
          "EH3",
          "H3",
          "H4",
          "H4/5",
          "H5",
          "H5/6",
          "H6",
          "L3",
          "L4",
          "L5",
          "L6",
          "LL",
          "LL-melt breccia",
          "LL5",
          "LL6"
         ],
         "labels": [
          "1974",
          "1974",
          "1974",
          "1974",
          "1975",
          "1977",
          "1977",
          "1977",
          "1978",
          "1979",
          "1979",
          "1979",
          "1979",
          "1979",
          "1979",
          "1979",
          "1979",
          "1979",
          "1979",
          "1981",
          "1981",
          "1981",
          "1981",
          "1982",
          "1982",
          "1983",
          "1983",
          "1984",
          "1984",
          "1985",
          "1985",
          "1985",
          "1986",
          "1986",
          "1986",
          "1986",
          "1987",
          "1987",
          "1987",
          "1987",
          "1988",
          "1988",
          "1988",
          "1988",
          "1988",
          "1988",
          "1990",
          "1990",
          "1990",
          "1990",
          "1991",
          "1991",
          "1991",
          "1991",
          "1992",
          "1992",
          "1993",
          "1993",
          "1993",
          "1993",
          "1994",
          "1994",
          "1994",
          "1994",
          "1995",
          "1995",
          "1995",
          "1996",
          "1996",
          "1996",
          "1997",
          "1997",
          "1997",
          "1997",
          "1997",
          "1997",
          "1997",
          "1997",
          "1998",
          "1998",
          "1998",
          "1998",
          "1998",
          "1998",
          "1998",
          "1998",
          "1998",
          "1998",
          "1999",
          "1999",
          "1999",
          "1999",
          "1999",
          "1999",
          "2000",
          "2000",
          "2000",
          "2000",
          "2000",
          "2000",
          "2000",
          "2000",
          "2001",
          "2001",
          "2001",
          "2001",
          "2001",
          "2001",
          "2001",
          "2001",
          "2001",
          "2001",
          "2002",
          "2002",
          "2002",
          "2002",
          "2002",
          "2002",
          "2002",
          "2002",
          "2003",
          "2003",
          "2003",
          "2003",
          "2003",
          "2003",
          "2003",
          "2003",
          "2004",
          "2004",
          "2004",
          "2004",
          "2004",
          "2004",
          "2004",
          "2004",
          "2005",
          "2005",
          "2005",
          "2005",
          "2006",
          "2006",
          "2006",
          "2006",
          "2006",
          "2006",
          "2006",
          "2006",
          "2007",
          "2007",
          "2007",
          "2007",
          "2007",
          "2007",
          "2008",
          "2008",
          "2008",
          "2008",
          "2008",
          "2008",
          "2009",
          "2009",
          "2009",
          "2009",
          "2009",
          "2009",
          "2009",
          "2010",
          "2010",
          "2010",
          "2010",
          "2010",
          "2010",
          "2010",
          "2011",
          "2011",
          "2011",
          "2011",
          "CO3",
          "E3",
          "EH3",
          "H3",
          "H4",
          "H4/5",
          "H5",
          "H5/6",
          "H6",
          "L3",
          "L4",
          "L5",
          "L6",
          "LL",
          "LL-melt breccia",
          "LL5",
          "LL6"
         ],
         "name": "",
         "parents": [
          "H4",
          "H5",
          "H6",
          "L6",
          "L6",
          "H4",
          "H5",
          "L6",
          "H5",
          "E3",
          "H4",
          "H4/5",
          "H5",
          "H6",
          "L4",
          "L5",
          "L6",
          "LL",
          "LL6",
          "H4",
          "H5",
          "H6",
          "L6",
          "H5",
          "L6",
          "H5",
          "L6",
          "H5",
          "L6",
          "H5",
          "H6",
          "L6",
          "H4",
          "H5",
          "H6",
          "L6",
          "H4",
          "H5",
          "H6",
          "L6",
          "H4",
          "H5",
          "H6",
          "L5",
          "L6",
          "LL6",
          "H5",
          "H6",
          "L5",
          "L6",
          "H5",
          "H6",
          "L5",
          "L6",
          "H5",
          "L6",
          "H5",
          "H6",
          "L5",
          "L6",
          "H5",
          "H6",
          "L5",
          "L6",
          "H5",
          "H6",
          "L6",
          "H5",
          "H6",
          "L6",
          "EH3",
          "H4",
          "H5",
          "H6",
          "L5",
          "L6",
          "LL5",
          "LL6",
          "H3",
          "H4",
          "H5",
          "H6",
          "L3",
          "L4",
          "L5",
          "L6",
          "LL-melt breccia",
          "LL6",
          "H4",
          "H5",
          "H6",
          "L5",
          "L6",
          "LL5",
          "H4",
          "H5",
          "H6",
          "L4",
          "L5",
          "L6",
          "LL5",
          "LL6",
          "H3",
          "H4",
          "H5",
          "H5/6",
          "H6",
          "L4",
          "L5",
          "L6",
          "LL5",
          "LL6",
          "H4",
          "H5",
          "H6",
          "L4",
          "L5",
          "L6",
          "LL5",
          "LL6",
          "H4",
          "H5",
          "H6",
          "L4",
          "L5",
          "L6",
          "LL5",
          "LL6",
          "H4",
          "H5",
          "H6",
          "L4",
          "L5",
          "L6",
          "LL5",
          "LL6",
          "H4",
          "H5",
          "L5",
          "L6",
          "H4",
          "H5",
          "H6",
          "L4",
          "L5",
          "L6",
          "LL5",
          "LL6",
          "CO3",
          "H5",
          "H6",
          "L5",
          "L6",
          "LL6",
          "H5",
          "H6",
          "L5",
          "L6",
          "LL5",
          "LL6",
          "CO3",
          "H5",
          "H6",
          "L5",
          "L6",
          "LL5",
          "LL6",
          "H4",
          "H5",
          "H6",
          "L5",
          "L6",
          "LL5",
          "LL6",
          "H4",
          "H5",
          "H6",
          "L6",
          "",
          "",
          "",
          "",
          "",
          "",
          "",
          "",
          "",
          "",
          "",
          "",
          "",
          "",
          "",
          "",
          ""
         ],
         "type": "sunburst",
         "values": [
          121,
          550,
          494,
          176,
          492,
          117,
          386,
          101,
          184,
          462,
          1616,
          552,
          849,
          470,
          284,
          122,
          730,
          499,
          438,
          151,
          370,
          108,
          105,
          101,
          206,
          207,
          238,
          248,
          180,
          234,
          150,
          203,
          1409,
          753,
          197,
          336,
          156,
          441,
          242,
          737,
          928,
          1274,
          679,
          185,
          863,
          141,
          293,
          200,
          241,
          2142,
          481,
          199,
          191,
          567,
          121,
          238,
          599,
          339,
          723,
          307,
          264,
          197,
          453,
          421,
          201,
          143,
          307,
          164,
          304,
          421,
          119,
          127,
          277,
          289,
          154,
          452,
          1884,
          107,
          188,
          1286,
          1212,
          742,
          209,
          144,
          213,
          1017,
          125,
          156,
          191,
          503,
          269,
          354,
          412,
          1419,
          216,
          515,
          605,
          124,
          536,
          586,
          201,
          397,
          121,
          240,
          557,
          109,
          358,
          145,
          488,
          471,
          196,
          110,
          219,
          597,
          296,
          133,
          527,
          360,
          588,
          143,
          498,
          1038,
          451,
          202,
          1492,
          1309,
          428,
          274,
          127,
          249,
          218,
          117,
          514,
          416,
          144,
          150,
          126,
          175,
          250,
          192,
          307,
          617,
          791,
          164,
          1150,
          1341,
          119,
          156,
          149,
          339,
          430,
          265,
          391,
          133,
          144,
          169,
          165,
          321,
          177,
          605,
          249,
          261,
          311,
          390,
          802,
          178,
          424,
          133,
          220,
          299,
          220,
          436,
          167,
          217,
          181,
          231,
          120,
          266,
          398,
          462,
          119,
          309,
          8149,
          552,
          14655,
          109,
          9070,
          209,
          1313,
          8633,
          17542,
          499,
          125,
          5501,
          3451
         ]
        }
       ],
       "layout": {
        "autosize": true,
        "legend": {
         "tracegroupgap": 0
        },
        "template": {
         "data": {
          "bar": [
           {
            "error_x": {
             "color": "#2a3f5f"
            },
            "error_y": {
             "color": "#2a3f5f"
            },
            "marker": {
             "line": {
              "color": "#E5ECF6",
              "width": 0.5
             },
             "pattern": {
              "fillmode": "overlay",
              "size": 10,
              "solidity": 0.2
             }
            },
            "type": "bar"
           }
          ],
          "barpolar": [
           {
            "marker": {
             "line": {
              "color": "#E5ECF6",
              "width": 0.5
             },
             "pattern": {
              "fillmode": "overlay",
              "size": 10,
              "solidity": 0.2
             }
            },
            "type": "barpolar"
           }
          ],
          "carpet": [
           {
            "aaxis": {
             "endlinecolor": "#2a3f5f",
             "gridcolor": "white",
             "linecolor": "white",
             "minorgridcolor": "white",
             "startlinecolor": "#2a3f5f"
            },
            "baxis": {
             "endlinecolor": "#2a3f5f",
             "gridcolor": "white",
             "linecolor": "white",
             "minorgridcolor": "white",
             "startlinecolor": "#2a3f5f"
            },
            "type": "carpet"
           }
          ],
          "choropleth": [
           {
            "colorbar": {
             "outlinewidth": 0,
             "ticks": ""
            },
            "type": "choropleth"
           }
          ],
          "contour": [
           {
            "colorbar": {
             "outlinewidth": 0,
             "ticks": ""
            },
            "colorscale": [
             [
              0,
              "#0d0887"
             ],
             [
              0.1111111111111111,
              "#46039f"
             ],
             [
              0.2222222222222222,
              "#7201a8"
             ],
             [
              0.3333333333333333,
              "#9c179e"
             ],
             [
              0.4444444444444444,
              "#bd3786"
             ],
             [
              0.5555555555555556,
              "#d8576b"
             ],
             [
              0.6666666666666666,
              "#ed7953"
             ],
             [
              0.7777777777777778,
              "#fb9f3a"
             ],
             [
              0.8888888888888888,
              "#fdca26"
             ],
             [
              1,
              "#f0f921"
             ]
            ],
            "type": "contour"
           }
          ],
          "contourcarpet": [
           {
            "colorbar": {
             "outlinewidth": 0,
             "ticks": ""
            },
            "type": "contourcarpet"
           }
          ],
          "heatmap": [
           {
            "colorbar": {
             "outlinewidth": 0,
             "ticks": ""
            },
            "colorscale": [
             [
              0,
              "#0d0887"
             ],
             [
              0.1111111111111111,
              "#46039f"
             ],
             [
              0.2222222222222222,
              "#7201a8"
             ],
             [
              0.3333333333333333,
              "#9c179e"
             ],
             [
              0.4444444444444444,
              "#bd3786"
             ],
             [
              0.5555555555555556,
              "#d8576b"
             ],
             [
              0.6666666666666666,
              "#ed7953"
             ],
             [
              0.7777777777777778,
              "#fb9f3a"
             ],
             [
              0.8888888888888888,
              "#fdca26"
             ],
             [
              1,
              "#f0f921"
             ]
            ],
            "type": "heatmap"
           }
          ],
          "heatmapgl": [
           {
            "colorbar": {
             "outlinewidth": 0,
             "ticks": ""
            },
            "colorscale": [
             [
              0,
              "#0d0887"
             ],
             [
              0.1111111111111111,
              "#46039f"
             ],
             [
              0.2222222222222222,
              "#7201a8"
             ],
             [
              0.3333333333333333,
              "#9c179e"
             ],
             [
              0.4444444444444444,
              "#bd3786"
             ],
             [
              0.5555555555555556,
              "#d8576b"
             ],
             [
              0.6666666666666666,
              "#ed7953"
             ],
             [
              0.7777777777777778,
              "#fb9f3a"
             ],
             [
              0.8888888888888888,
              "#fdca26"
             ],
             [
              1,
              "#f0f921"
             ]
            ],
            "type": "heatmapgl"
           }
          ],
          "histogram": [
           {
            "marker": {
             "pattern": {
              "fillmode": "overlay",
              "size": 10,
              "solidity": 0.2
             }
            },
            "type": "histogram"
           }
          ],
          "histogram2d": [
           {
            "colorbar": {
             "outlinewidth": 0,
             "ticks": ""
            },
            "colorscale": [
             [
              0,
              "#0d0887"
             ],
             [
              0.1111111111111111,
              "#46039f"
             ],
             [
              0.2222222222222222,
              "#7201a8"
             ],
             [
              0.3333333333333333,
              "#9c179e"
             ],
             [
              0.4444444444444444,
              "#bd3786"
             ],
             [
              0.5555555555555556,
              "#d8576b"
             ],
             [
              0.6666666666666666,
              "#ed7953"
             ],
             [
              0.7777777777777778,
              "#fb9f3a"
             ],
             [
              0.8888888888888888,
              "#fdca26"
             ],
             [
              1,
              "#f0f921"
             ]
            ],
            "type": "histogram2d"
           }
          ],
          "histogram2dcontour": [
           {
            "colorbar": {
             "outlinewidth": 0,
             "ticks": ""
            },
            "colorscale": [
             [
              0,
              "#0d0887"
             ],
             [
              0.1111111111111111,
              "#46039f"
             ],
             [
              0.2222222222222222,
              "#7201a8"
             ],
             [
              0.3333333333333333,
              "#9c179e"
             ],
             [
              0.4444444444444444,
              "#bd3786"
             ],
             [
              0.5555555555555556,
              "#d8576b"
             ],
             [
              0.6666666666666666,
              "#ed7953"
             ],
             [
              0.7777777777777778,
              "#fb9f3a"
             ],
             [
              0.8888888888888888,
              "#fdca26"
             ],
             [
              1,
              "#f0f921"
             ]
            ],
            "type": "histogram2dcontour"
           }
          ],
          "mesh3d": [
           {
            "colorbar": {
             "outlinewidth": 0,
             "ticks": ""
            },
            "type": "mesh3d"
           }
          ],
          "parcoords": [
           {
            "line": {
             "colorbar": {
              "outlinewidth": 0,
              "ticks": ""
             }
            },
            "type": "parcoords"
           }
          ],
          "pie": [
           {
            "automargin": true,
            "type": "pie"
           }
          ],
          "scatter": [
           {
            "fillpattern": {
             "fillmode": "overlay",
             "size": 10,
             "solidity": 0.2
            },
            "type": "scatter"
           }
          ],
          "scatter3d": [
           {
            "line": {
             "colorbar": {
              "outlinewidth": 0,
              "ticks": ""
             }
            },
            "marker": {
             "colorbar": {
              "outlinewidth": 0,
              "ticks": ""
             }
            },
            "type": "scatter3d"
           }
          ],
          "scattercarpet": [
           {
            "marker": {
             "colorbar": {
              "outlinewidth": 0,
              "ticks": ""
             }
            },
            "type": "scattercarpet"
           }
          ],
          "scattergeo": [
           {
            "marker": {
             "colorbar": {
              "outlinewidth": 0,
              "ticks": ""
             }
            },
            "type": "scattergeo"
           }
          ],
          "scattergl": [
           {
            "marker": {
             "colorbar": {
              "outlinewidth": 0,
              "ticks": ""
             }
            },
            "type": "scattergl"
           }
          ],
          "scattermapbox": [
           {
            "marker": {
             "colorbar": {
              "outlinewidth": 0,
              "ticks": ""
             }
            },
            "type": "scattermapbox"
           }
          ],
          "scatterpolar": [
           {
            "marker": {
             "colorbar": {
              "outlinewidth": 0,
              "ticks": ""
             }
            },
            "type": "scatterpolar"
           }
          ],
          "scatterpolargl": [
           {
            "marker": {
             "colorbar": {
              "outlinewidth": 0,
              "ticks": ""
             }
            },
            "type": "scatterpolargl"
           }
          ],
          "scatterternary": [
           {
            "marker": {
             "colorbar": {
              "outlinewidth": 0,
              "ticks": ""
             }
            },
            "type": "scatterternary"
           }
          ],
          "surface": [
           {
            "colorbar": {
             "outlinewidth": 0,
             "ticks": ""
            },
            "colorscale": [
             [
              0,
              "#0d0887"
             ],
             [
              0.1111111111111111,
              "#46039f"
             ],
             [
              0.2222222222222222,
              "#7201a8"
             ],
             [
              0.3333333333333333,
              "#9c179e"
             ],
             [
              0.4444444444444444,
              "#bd3786"
             ],
             [
              0.5555555555555556,
              "#d8576b"
             ],
             [
              0.6666666666666666,
              "#ed7953"
             ],
             [
              0.7777777777777778,
              "#fb9f3a"
             ],
             [
              0.8888888888888888,
              "#fdca26"
             ],
             [
              1,
              "#f0f921"
             ]
            ],
            "type": "surface"
           }
          ],
          "table": [
           {
            "cells": {
             "fill": {
              "color": "#EBF0F8"
             },
             "line": {
              "color": "white"
             }
            },
            "header": {
             "fill": {
              "color": "#C8D4E3"
             },
             "line": {
              "color": "white"
             }
            },
            "type": "table"
           }
          ]
         },
         "layout": {
          "annotationdefaults": {
           "arrowcolor": "#2a3f5f",
           "arrowhead": 0,
           "arrowwidth": 1
          },
          "autotypenumbers": "strict",
          "coloraxis": {
           "colorbar": {
            "outlinewidth": 0,
            "ticks": ""
           }
          },
          "colorscale": {
           "diverging": [
            [
             0,
             "#8e0152"
            ],
            [
             0.1,
             "#c51b7d"
            ],
            [
             0.2,
             "#de77ae"
            ],
            [
             0.3,
             "#f1b6da"
            ],
            [
             0.4,
             "#fde0ef"
            ],
            [
             0.5,
             "#f7f7f7"
            ],
            [
             0.6,
             "#e6f5d0"
            ],
            [
             0.7,
             "#b8e186"
            ],
            [
             0.8,
             "#7fbc41"
            ],
            [
             0.9,
             "#4d9221"
            ],
            [
             1,
             "#276419"
            ]
           ],
           "sequential": [
            [
             0,
             "#0d0887"
            ],
            [
             0.1111111111111111,
             "#46039f"
            ],
            [
             0.2222222222222222,
             "#7201a8"
            ],
            [
             0.3333333333333333,
             "#9c179e"
            ],
            [
             0.4444444444444444,
             "#bd3786"
            ],
            [
             0.5555555555555556,
             "#d8576b"
            ],
            [
             0.6666666666666666,
             "#ed7953"
            ],
            [
             0.7777777777777778,
             "#fb9f3a"
            ],
            [
             0.8888888888888888,
             "#fdca26"
            ],
            [
             1,
             "#f0f921"
            ]
           ],
           "sequentialminus": [
            [
             0,
             "#0d0887"
            ],
            [
             0.1111111111111111,
             "#46039f"
            ],
            [
             0.2222222222222222,
             "#7201a8"
            ],
            [
             0.3333333333333333,
             "#9c179e"
            ],
            [
             0.4444444444444444,
             "#bd3786"
            ],
            [
             0.5555555555555556,
             "#d8576b"
            ],
            [
             0.6666666666666666,
             "#ed7953"
            ],
            [
             0.7777777777777778,
             "#fb9f3a"
            ],
            [
             0.8888888888888888,
             "#fdca26"
            ],
            [
             1,
             "#f0f921"
            ]
           ]
          },
          "colorway": [
           "#636efa",
           "#EF553B",
           "#00cc96",
           "#ab63fa",
           "#FFA15A",
           "#19d3f3",
           "#FF6692",
           "#B6E880",
           "#FF97FF",
           "#FECB52"
          ],
          "font": {
           "color": "#2a3f5f"
          },
          "geo": {
           "bgcolor": "white",
           "lakecolor": "white",
           "landcolor": "#E5ECF6",
           "showlakes": true,
           "showland": true,
           "subunitcolor": "white"
          },
          "hoverlabel": {
           "align": "left"
          },
          "hovermode": "closest",
          "mapbox": {
           "style": "light"
          },
          "paper_bgcolor": "white",
          "plot_bgcolor": "#E5ECF6",
          "polar": {
           "angularaxis": {
            "gridcolor": "white",
            "linecolor": "white",
            "ticks": ""
           },
           "bgcolor": "#E5ECF6",
           "radialaxis": {
            "gridcolor": "white",
            "linecolor": "white",
            "ticks": ""
           }
          },
          "scene": {
           "xaxis": {
            "backgroundcolor": "#E5ECF6",
            "gridcolor": "white",
            "gridwidth": 2,
            "linecolor": "white",
            "showbackground": true,
            "ticks": "",
            "zerolinecolor": "white"
           },
           "yaxis": {
            "backgroundcolor": "#E5ECF6",
            "gridcolor": "white",
            "gridwidth": 2,
            "linecolor": "white",
            "showbackground": true,
            "ticks": "",
            "zerolinecolor": "white"
           },
           "zaxis": {
            "backgroundcolor": "#E5ECF6",
            "gridcolor": "white",
            "gridwidth": 2,
            "linecolor": "white",
            "showbackground": true,
            "ticks": "",
            "zerolinecolor": "white"
           }
          },
          "shapedefaults": {
           "line": {
            "color": "#2a3f5f"
           }
          },
          "ternary": {
           "aaxis": {
            "gridcolor": "white",
            "linecolor": "white",
            "ticks": ""
           },
           "baxis": {
            "gridcolor": "white",
            "linecolor": "white",
            "ticks": ""
           },
           "bgcolor": "#E5ECF6",
           "caxis": {
            "gridcolor": "white",
            "linecolor": "white",
            "ticks": ""
           }
          },
          "title": {
           "x": 0.05
          },
          "xaxis": {
           "automargin": true,
           "gridcolor": "white",
           "linecolor": "white",
           "ticks": "",
           "title": {
            "standoff": 15
           },
           "zerolinecolor": "white",
           "zerolinewidth": 2
          },
          "yaxis": {
           "automargin": true,
           "gridcolor": "white",
           "linecolor": "white",
           "ticks": "",
           "title": {
            "standoff": 15
           },
           "zerolinecolor": "white",
           "zerolinewidth": 2
          }
         }
        },
        "title": {
         "text": "Meteorite Classification and Year Distribution"
        }
       }
      },
      "image/png": "[encoded data removed]",
      "text/html": [
       "<div>                            <div id=\"5c1ad956-1b1b-48be-9046-d9eec34043c1\" class=\"plotly-graph-div\" style=\"height:525px; width:100%;\"></div>            <script type=\"text/javascript\">                require([\"plotly\"], function(Plotly) {                    window.PLOTLYENV=window.PLOTLYENV || {};                                    if (document.getElementById(\"5c1ad956-1b1b-48be-9046-d9eec34043c1\")) {                    Plotly.newPlot(                        \"5c1ad956-1b1b-48be-9046-d9eec34043c1\",                        [{\"branchvalues\":\"total\",\"domain\":{\"x\":[0.0,1.0],\"y\":[0.0,1.0]},\"hovertemplate\":\"labels=%{label}\\u003cbr\\u003enum_meteorites=%{value}\\u003cbr\\u003eparent=%{parent}\\u003cbr\\u003eid=%{id}\\u003cextra\\u003e\\u003c\\u002fextra\\u003e\",\"ids\":[\"H4\\u002f1974\",\"H5\\u002f1974\",\"H6\\u002f1974\",\"L6\\u002f1974\",\"L6\\u002f1975\",\"H4\\u002f1977\",\"H5\\u002f1977\",\"L6\\u002f1977\",\"H5\\u002f1978\",\"E3\\u002f1979\",\"H4\\u002f1979\",\"H4\\u002f5\\u002f1979\",\"H5\\u002f1979\",\"H6\\u002f1979\",\"L4\\u002f1979\",\"L5\\u002f1979\",\"L6\\u002f1979\",\"LL\\u002f1979\",\"LL6\\u002f1979\",\"H4\\u002f1981\",\"H5\\u002f1981\",\"H6\\u002f1981\",\"L6\\u002f1981\",\"H5\\u002f1982\",\"L6\\u002f1982\",\"H5\\u002f1983\",\"L6\\u002f1983\",\"H5\\u002f1984\",\"L6\\u002f1984\",\"H5\\u002f1985\",\"H6\\u002f1985\",\"L6\\u002f1985\",\"H4\\u002f1986\",\"H5\\u002f1986\",\"H6\\u002f1986\",\"L6\\u002f1986\",\"H4\\u002f1987\",\"H5\\u002f1987\",\"H6\\u002f1987\",\"L6\\u002f1987\",\"H4\\u002f1988\",\"H5\\u002f1988\",\"H6\\u002f1988\",\"L5\\u002f1988\",\"L6\\u002f1988\",\"LL6\\u002f1988\",\"H5\\u002f1990\",\"H6\\u002f1990\",\"L5\\u002f1990\",\"L6\\u002f1990\",\"H5\\u002f1991\",\"H6\\u002f1991\",\"L5\\u002f1991\",\"L6\\u002f1991\",\"H5\\u002f1992\",\"L6\\u002f1992\",\"H5\\u002f1993\",\"H6\\u002f1993\",\"L5\\u002f1993\",\"L6\\u002f1993\",\"H5\\u002f1994\",\"H6\\u002f1994\",\"L5\\u002f1994\",\"L6\\u002f1994\",\"H5\\u002f1995\",\"H6\\u002f1995\",\"L6\\u002f1995\",\"H5\\u002f1996\",\"H6\\u002f1996\",\"L6\\u002f1996\",\"EH3\\u002f1997\",\"H4\\u002f1997\",\"H5\\u002f1997\",\"H6\\u002f1997\",\"L5\\u002f1997\",\"L6\\u002f1997\",\"LL5\\u002f1997\",\"LL6\\u002f1997\",\"H3\\u002f1998\",\"H4\\u002f1998\",\"H5\\u002f1998\",\"H6\\u002f1998\",\"L3\\u002f1998\",\"L4\\u002f1998\",\"L5\\u002f1998\",\"L6\\u002f1998\",\"LL-melt breccia\\u002f1998\",\"LL6\\u002f1998\",\"H4\\u002f1999\",\"H5\\u002f1999\",\"H6\\u002f1999\",\"L5\\u002f1999\",\"L6\\u002f1999\",\"LL5\\u002f1999\",\"H4\\u002f2000\",\"H5\\u002f2000\",\"H6\\u002f2000\",\"L4\\u002f2000\",\"L5\\u002f2000\",\"L6\\u002f2000\",\"LL5\\u002f2000\",\"LL6\\u002f2000\",\"H3\\u002f2001\",\"H4\\u002f2001\",\"H5\\u002f2001\",\"H5\\u002f6\\u002f2001\",\"H6\\u002f2001\",\"L4\\u002f2001\",\"L5\\u002f2001\",\"L6\\u002f2001\",\"LL5\\u002f2001\",\"LL6\\u002f2001\",\"H4\\u002f2002\",\"H5\\u002f2002\",\"H6\\u002f2002\",\"L4\\u002f2002\",\"L5\\u002f2002\",\"L6\\u002f2002\",\"LL5\\u002f2002\",\"LL6\\u002f2002\",\"H4\\u002f2003\",\"H5\\u002f2003\",\"H6\\u002f2003\",\"L4\\u002f2003\",\"L5\\u002f2003\",\"L6\\u002f2003\",\"LL5\\u002f2003\",\"LL6\\u002f2003\",\"H4\\u002f2004\",\"H5\\u002f2004\",\"H6\\u002f2004\",\"L4\\u002f2004\",\"L5\\u002f2004\",\"L6\\u002f2004\",\"LL5\\u002f2004\",\"LL6\\u002f2004\",\"H4\\u002f2005\",\"H5\\u002f2005\",\"L5\\u002f2005\",\"L6\\u002f2005\",\"H4\\u002f2006\",\"H5\\u002f2006\",\"H6\\u002f2006\",\"L4\\u002f2006\",\"L5\\u002f2006\",\"L6\\u002f2006\",\"LL5\\u002f2006\",\"LL6\\u002f2006\",\"CO3\\u002f2007\",\"H5\\u002f2007\",\"H6\\u002f2007\",\"L5\\u002f2007\",\"L6\\u002f2007\",\"LL6\\u002f2007\",\"H5\\u002f2008\",\"H6\\u002f2008\",\"L5\\u002f2008\",\"L6\\u002f2008\",\"LL5\\u002f2008\",\"LL6\\u002f2008\",\"CO3\\u002f2009\",\"H5\\u002f2009\",\"H6\\u002f2009\",\"L5\\u002f2009\",\"L6\\u002f2009\",\"LL5\\u002f2009\",\"LL6\\u002f2009\",\"H4\\u002f2010\",\"H5\\u002f2010\",\"H6\\u002f2010\",\"L5\\u002f2010\",\"L6\\u002f2010\",\"LL5\\u002f2010\",\"LL6\\u002f2010\",\"H4\\u002f2011\",\"H5\\u002f2011\",\"H6\\u002f2011\",\"L6\\u002f2011\",\"CO3\",\"E3\",\"EH3\",\"H3\",\"H4\",\"H4\\u002f5\",\"H5\",\"H5\\u002f6\",\"H6\",\"L3\",\"L4\",\"L5\",\"L6\",\"LL\",\"LL-melt breccia\",\"LL5\",\"LL6\"],\"labels\":[\"1974\",\"1974\",\"1974\",\"1974\",\"1975\",\"1977\",\"1977\",\"1977\",\"1978\",\"1979\",\"1979\",\"1979\",\"1979\",\"1979\",\"1979\",\"1979\",\"1979\",\"1979\",\"1979\",\"1981\",\"1981\",\"1981\",\"1981\",\"1982\",\"1982\",\"1983\",\"1983\",\"1984\",\"1984\",\"1985\",\"1985\",\"1985\",\"1986\",\"1986\",\"1986\",\"1986\",\"1987\",\"1987\",\"1987\",\"1987\",\"1988\",\"1988\",\"1988\",\"1988\",\"1988\",\"1988\",\"1990\",\"1990\",\"1990\",\"1990\",\"1991\",\"1991\",\"1991\",\"1991\",\"1992\",\"1992\",\"1993\",\"1993\",\"1993\",\"1993\",\"1994\",\"1994\",\"1994\",\"1994\",\"1995\",\"1995\",\"1995\",\"1996\",\"1996\",\"1996\",\"1997\",\"1997\",\"1997\",\"1997\",\"1997\",\"1997\",\"1997\",\"1997\",\"1998\",\"1998\",\"1998\",\"1998\",\"1998\",\"1998\",\"1998\",\"1998\",\"1998\",\"1998\",\"1999\",\"1999\",\"1999\",\"1999\",\"1999\",\"1999\",\"2000\",\"2000\",\"2000\",\"2000\",\"2000\",\"2000\",\"2000\",\"2000\",\"2001\",\"2001\",\"2001\",\"2001\",\"2001\",\"2001\",\"2001\",\"2001\",\"2001\",\"2001\",\"2002\",\"2002\",\"2002\",\"2002\",\"2002\",\"2002\",\"2002\",\"2002\",\"2003\",\"2003\",\"2003\",\"2003\",\"2003\",\"2003\",\"2003\",\"2003\",\"2004\",\"2004\",\"2004\",\"2004\",\"2004\",\"2004\",\"2004\",\"2004\",\"2005\",\"2005\",\"2005\",\"2005\",\"2006\",\"2006\",\"2006\",\"2006\",\"2006\",\"2006\",\"2006\",\"2006\",\"2007\",\"2007\",\"2007\",\"2007\",\"2007\",\"2007\",\"2008\",\"2008\",\"2008\",\"2008\",\"2008\",\"2008\",\"2009\",\"2009\",\"2009\",\"2009\",\"2009\",\"2009\",\"2009\",\"2010\",\"2010\",\"2010\",\"2010\",\"2010\",\"2010\",\"2010\",\"2011\",\"2011\",\"2011\",\"2011\",\"CO3\",\"E3\",\"EH3\",\"H3\",\"H4\",\"H4\\u002f5\",\"H5\",\"H5\\u002f6\",\"H6\",\"L3\",\"L4\",\"L5\",\"L6\",\"LL\",\"LL-melt breccia\",\"LL5\",\"LL6\"],\"name\":\"\",\"parents\":[\"H4\",\"H5\",\"H6\",\"L6\",\"L6\",\"H4\",\"H5\",\"L6\",\"H5\",\"E3\",\"H4\",\"H4\\u002f5\",\"H5\",\"H6\",\"L4\",\"L5\",\"L6\",\"LL\",\"LL6\",\"H4\",\"H5\",\"H6\",\"L6\",\"H5\",\"L6\",\"H5\",\"L6\",\"H5\",\"L6\",\"H5\",\"H6\",\"L6\",\"H4\",\"H5\",\"H6\",\"L6\",\"H4\",\"H5\",\"H6\",\"L6\",\"H4\",\"H5\",\"H6\",\"L5\",\"L6\",\"LL6\",\"H5\",\"H6\",\"L5\",\"L6\",\"H5\",\"H6\",\"L5\",\"L6\",\"H5\",\"L6\",\"H5\",\"H6\",\"L5\",\"L6\",\"H5\",\"H6\",\"L5\",\"L6\",\"H5\",\"H6\",\"L6\",\"H5\",\"H6\",\"L6\",\"EH3\",\"H4\",\"H5\",\"H6\",\"L5\",\"L6\",\"LL5\",\"LL6\",\"H3\",\"H4\",\"H5\",\"H6\",\"L3\",\"L4\",\"L5\",\"L6\",\"LL-melt breccia\",\"LL6\",\"H4\",\"H5\",\"H6\",\"L5\",\"L6\",\"LL5\",\"H4\",\"H5\",\"H6\",\"L4\",\"L5\",\"L6\",\"LL5\",\"LL6\",\"H3\",\"H4\",\"H5\",\"H5\\u002f6\",\"H6\",\"L4\",\"L5\",\"L6\",\"LL5\",\"LL6\",\"H4\",\"H5\",\"H6\",\"L4\",\"L5\",\"L6\",\"LL5\",\"LL6\",\"H4\",\"H5\",\"H6\",\"L4\",\"L5\",\"L6\",\"LL5\",\"LL6\",\"H4\",\"H5\",\"H6\",\"L4\",\"L5\",\"L6\",\"LL5\",\"LL6\",\"H4\",\"H5\",\"L5\",\"L6\",\"H4\",\"H5\",\"H6\",\"L4\",\"L5\",\"L6\",\"LL5\",\"LL6\",\"CO3\",\"H5\",\"H6\",\"L5\",\"L6\",\"LL6\",\"H5\",\"H6\",\"L5\",\"L6\",\"LL5\",\"LL6\",\"CO3\",\"H5\",\"H6\",\"L5\",\"L6\",\"LL5\",\"LL6\",\"H4\",\"H5\",\"H6\",\"L5\",\"L6\",\"LL5\",\"LL6\",\"H4\",\"H5\",\"H6\",\"L6\",\"\",\"\",\"\",\"\",\"\",\"\",\"\",\"\",\"\",\"\",\"\",\"\",\"\",\"\",\"\",\"\",\"\"],\"values\":[121,550,494,176,492,117,386,101,184,462,1616,552,849,470,284,122,730,499,438,151,370,108,105,101,206,207,238,248,180,234,150,203,1409,753,197,336,156,441,242,737,928,1274,679,185,863,141,293,200,241,2142,481,199,191,567,121,238,599,339,723,307,264,197,453,421,201,143,307,164,304,421,119,127,277,289,154,452,1884,107,188,1286,1212,742,209,144,213,1017,125,156,191,503,269,354,412,1419,216,515,605,124,536,586,201,397,121,240,557,109,358,145,488,471,196,110,219,597,296,133,527,360,588,143,498,1038,451,202,1492,1309,428,274,127,249,218,117,514,416,144,150,126,175,250,192,307,617,791,164,1150,1341,119,156,149,339,430,265,391,133,144,169,165,321,177,605,249,261,311,390,802,178,424,133,220,299,220,436,167,217,181,231,120,266,398,462,119,309,8149,552,14655,109,9070,209,1313,8633,17542,499,125,5501,3451],\"type\":\"sunburst\"}],                        {\"template\":{\"data\":{\"histogram2dcontour\":[{\"type\":\"histogram2dcontour\",\"colorbar\":{\"outlinewidth\":0,\"ticks\":\"\"},\"colorscale\":[[0.0,\"#0d0887\"],[0.1111111111111111,\"#46039f\"],[0.2222222222222222,\"#7201a8\"],[0.3333333333333333,\"#9c179e\"],[0.4444444444444444,\"#bd3786\"],[0.5555555555555556,\"#d8576b\"],[0.6666666666666666,\"#ed7953\"],[0.7777777777777778,\"#fb9f3a\"],[0.8888888888888888,\"#fdca26\"],[1.0,\"#f0f921\"]]}],\"choropleth\":[{\"type\":\"choropleth\",\"colorbar\":{\"outlinewidth\":0,\"ticks\":\"\"}}],\"histogram2d\":[{\"type\":\"histogram2d\",\"colorbar\":{\"outlinewidth\":0,\"ticks\":\"\"},\"colorscale\":[[0.0,\"#0d0887\"],[0.1111111111111111,\"#46039f\"],[0.2222222222222222,\"#7201a8\"],[0.3333333333333333,\"#9c179e\"],[0.4444444444444444,\"#bd3786\"],[0.5555555555555556,\"#d8576b\"],[0.6666666666666666,\"#ed7953\"],[0.7777777777777778,\"#fb9f3a\"],[0.8888888888888888,\"#fdca26\"],[1.0,\"#f0f921\"]]}],\"heatmap\":[{\"type\":\"heatmap\",\"colorbar\":{\"outlinewidth\":0,\"ticks\":\"\"},\"colorscale\":[[0.0,\"#0d0887\"],[0.1111111111111111,\"#46039f\"],[0.2222222222222222,\"#7201a8\"],[0.3333333333333333,\"#9c179e\"],[0.4444444444444444,\"#bd3786\"],[0.5555555555555556,\"#d8576b\"],[0.6666666666666666,\"#ed7953\"],[0.7777777777777778,\"#fb9f3a\"],[0.8888888888888888,\"#fdca26\"],[1.0,\"#f0f921\"]]}],\"heatmapgl\":[{\"type\":\"heatmapgl\",\"colorbar\":{\"outlinewidth\":0,\"ticks\":\"\"},\"colorscale\":[[0.0,\"#0d0887\"],[0.1111111111111111,\"#46039f\"],[0.2222222222222222,\"#7201a8\"],[0.3333333333333333,\"#9c179e\"],[0.4444444444444444,\"#bd3786\"],[0.5555555555555556,\"#d8576b\"],[0.6666666666666666,\"#ed7953\"],[0.7777777777777778,\"#fb9f3a\"],[0.8888888888888888,\"#fdca26\"],[1.0,\"#f0f921\"]]}],\"contourcarpet\":[{\"type\":\"contourcarpet\",\"colorbar\":{\"outlinewidth\":0,\"ticks\":\"\"}}],\"contour\":[{\"type\":\"contour\",\"colorbar\":{\"outlinewidth\":0,\"ticks\":\"\"},\"colorscale\":[[0.0,\"#0d0887\"],[0.1111111111111111,\"#46039f\"],[0.2222222222222222,\"#7201a8\"],[0.3333333333333333,\"#9c179e\"],[0.4444444444444444,\"#bd3786\"],[0.5555555555555556,\"#d8576b\"],[0.6666666666666666,\"#ed7953\"],[0.7777777777777778,\"#fb9f3a\"],[0.8888888888888888,\"#fdca26\"],[1.0,\"#f0f921\"]]}],\"surface\":[{\"type\":\"surface\",\"colorbar\":{\"outlinewidth\":0,\"ticks\":\"\"},\"colorscale\":[[0.0,\"#0d0887\"],[0.1111111111111111,\"#46039f\"],[0.2222222222222222,\"#7201a8\"],[0.3333333333333333,\"#9c179e\"],[0.4444444444444444,\"#bd3786\"],[0.5555555555555556,\"#d8576b\"],[0.6666666666666666,\"#ed7953\"],[0.7777777777777778,\"#fb9f3a\"],[0.8888888888888888,\"#fdca26\"],[1.0,\"#f0f921\"]]}],\"mesh3d\":[{\"type\":\"mesh3d\",\"colorbar\":{\"outlinewidth\":0,\"ticks\":\"\"}}],\"scatter\":[{\"fillpattern\":{\"fillmode\":\"overlay\",\"size\":10,\"solidity\":0.2},\"type\":\"scatter\"}],\"parcoords\":[{\"type\":\"parcoords\",\"line\":{\"colorbar\":{\"outlinewidth\":0,\"ticks\":\"\"}}}],\"scatterpolargl\":[{\"type\":\"scatterpolargl\",\"marker\":{\"colorbar\":{\"outlinewidth\":0,\"ticks\":\"\"}}}],\"bar\":[{\"error_x\":{\"color\":\"#2a3f5f\"},\"error_y\":{\"color\":\"#2a3f5f\"},\"marker\":{\"line\":{\"color\":\"#E5ECF6\",\"width\":0.5},\"pattern\":{\"fillmode\":\"overlay\",\"size\":10,\"solidity\":0.2}},\"type\":\"bar\"}],\"scattergeo\":[{\"type\":\"scattergeo\",\"marker\":{\"colorbar\":{\"outlinewidth\":0,\"ticks\":\"\"}}}],\"scatterpolar\":[{\"type\":\"scatterpolar\",\"marker\":{\"colorbar\":{\"outlinewidth\":0,\"ticks\":\"\"}}}],\"histogram\":[{\"marker\":{\"pattern\":{\"fillmode\":\"overlay\",\"size\":10,\"solidity\":0.2}},\"type\":\"histogram\"}],\"scattergl\":[{\"type\":\"scattergl\",\"marker\":{\"colorbar\":{\"outlinewidth\":0,\"ticks\":\"\"}}}],\"scatter3d\":[{\"type\":\"scatter3d\",\"line\":{\"colorbar\":{\"outlinewidth\":0,\"ticks\":\"\"}},\"marker\":{\"colorbar\":{\"outlinewidth\":0,\"ticks\":\"\"}}}],\"scattermapbox\":[{\"type\":\"scattermapbox\",\"marker\":{\"colorbar\":{\"outlinewidth\":0,\"ticks\":\"\"}}}],\"scatterternary\":[{\"type\":\"scatterternary\",\"marker\":{\"colorbar\":{\"outlinewidth\":0,\"ticks\":\"\"}}}],\"scattercarpet\":[{\"type\":\"scattercarpet\",\"marker\":{\"colorbar\":{\"outlinewidth\":0,\"ticks\":\"\"}}}],\"carpet\":[{\"aaxis\":{\"endlinecolor\":\"#2a3f5f\",\"gridcolor\":\"white\",\"linecolor\":\"white\",\"minorgridcolor\":\"white\",\"startlinecolor\":\"#2a3f5f\"},\"baxis\":{\"endlinecolor\":\"#2a3f5f\",\"gridcolor\":\"white\",\"linecolor\":\"white\",\"minorgridcolor\":\"white\",\"startlinecolor\":\"#2a3f5f\"},\"type\":\"carpet\"}],\"table\":[{\"cells\":{\"fill\":{\"color\":\"#EBF0F8\"},\"line\":{\"color\":\"white\"}},\"header\":{\"fill\":{\"color\":\"#C8D4E3\"},\"line\":{\"color\":\"white\"}},\"type\":\"table\"}],\"barpolar\":[{\"marker\":{\"line\":{\"color\":\"#E5ECF6\",\"width\":0.5},\"pattern\":{\"fillmode\":\"overlay\",\"size\":10,\"solidity\":0.2}},\"type\":\"barpolar\"}],\"pie\":[{\"automargin\":true,\"type\":\"pie\"}]},\"layout\":{\"autotypenumbers\":\"strict\",\"colorway\":[\"#636efa\",\"#EF553B\",\"#00cc96\",\"#ab63fa\",\"#FFA15A\",\"#19d3f3\",\"#FF6692\",\"#B6E880\",\"#FF97FF\",\"#FECB52\"],\"font\":{\"color\":\"#2a3f5f\"},\"hovermode\":\"closest\",\"hoverlabel\":{\"align\":\"left\"},\"paper_bgcolor\":\"white\",\"plot_bgcolor\":\"#E5ECF6\",\"polar\":{\"bgcolor\":\"#E5ECF6\",\"angularaxis\":{\"gridcolor\":\"white\",\"linecolor\":\"white\",\"ticks\":\"\"},\"radialaxis\":{\"gridcolor\":\"white\",\"linecolor\":\"white\",\"ticks\":\"\"}},\"ternary\":{\"bgcolor\":\"#E5ECF6\",\"aaxis\":{\"gridcolor\":\"white\",\"linecolor\":\"white\",\"ticks\":\"\"},\"baxis\":{\"gridcolor\":\"white\",\"linecolor\":\"white\",\"ticks\":\"\"},\"caxis\":{\"gridcolor\":\"white\",\"linecolor\":\"white\",\"ticks\":\"\"}},\"coloraxis\":{\"colorbar\":{\"outlinewidth\":0,\"ticks\":\"\"}},\"colorscale\":{\"sequential\":[[0.0,\"#0d0887\"],[0.1111111111111111,\"#46039f\"],[0.2222222222222222,\"#7201a8\"],[0.3333333333333333,\"#9c179e\"],[0.4444444444444444,\"#bd3786\"],[0.5555555555555556,\"#d8576b\"],[0.6666666666666666,\"#ed7953\"],[0.7777777777777778,\"#fb9f3a\"],[0.8888888888888888,\"#fdca26\"],[1.0,\"#f0f921\"]],\"sequentialminus\":[[0.0,\"#0d0887\"],[0.1111111111111111,\"#46039f\"],[0.2222222222222222,\"#7201a8\"],[0.3333333333333333,\"#9c179e\"],[0.4444444444444444,\"#bd3786\"],[0.5555555555555556,\"#d8576b\"],[0.6666666666666666,\"#ed7953\"],[0.7777777777777778,\"#fb9f3a\"],[0.8888888888888888,\"#fdca26\"],[1.0,\"#f0f921\"]],\"diverging\":[[0,\"#8e0152\"],[0.1,\"#c51b7d\"],[0.2,\"#de77ae\"],[0.3,\"#f1b6da\"],[0.4,\"#fde0ef\"],[0.5,\"#f7f7f7\"],[0.6,\"#e6f5d0\"],[0.7,\"#b8e186\"],[0.8,\"#7fbc41\"],[0.9,\"#4d9221\"],[1,\"#276419\"]]},\"xaxis\":{\"gridcolor\":\"white\",\"linecolor\":\"white\",\"ticks\":\"\",\"title\":{\"standoff\":15},\"zerolinecolor\":\"white\",\"automargin\":true,\"zerolinewidth\":2},\"yaxis\":{\"gridcolor\":\"white\",\"linecolor\":\"white\",\"ticks\":\"\",\"title\":{\"standoff\":15},\"zerolinecolor\":\"white\",\"automargin\":true,\"zerolinewidth\":2},\"scene\":{\"xaxis\":{\"backgroundcolor\":\"#E5ECF6\",\"gridcolor\":\"white\",\"linecolor\":\"white\",\"showbackground\":true,\"ticks\":\"\",\"zerolinecolor\":\"white\",\"gridwidth\":2},\"yaxis\":{\"backgroundcolor\":\"#E5ECF6\",\"gridcolor\":\"white\",\"linecolor\":\"white\",\"showbackground\":true,\"ticks\":\"\",\"zerolinecolor\":\"white\",\"gridwidth\":2},\"zaxis\":{\"backgroundcolor\":\"#E5ECF6\",\"gridcolor\":\"white\",\"linecolor\":\"white\",\"showbackground\":true,\"ticks\":\"\",\"zerolinecolor\":\"white\",\"gridwidth\":2}},\"shapedefaults\":{\"line\":{\"color\":\"#2a3f5f\"}},\"annotationdefaults\":{\"arrowcolor\":\"#2a3f5f\",\"arrowhead\":0,\"arrowwidth\":1},\"geo\":{\"bgcolor\":\"white\",\"landcolor\":\"#E5ECF6\",\"subunitcolor\":\"white\",\"showland\":true,\"showlakes\":true,\"lakecolor\":\"white\"},\"title\":{\"x\":0.05},\"mapbox\":{\"style\":\"light\"}}},\"legend\":{\"tracegroupgap\":0},\"title\":{\"text\":\"Meteorite Classification and Year Distribution\"}},                        {\"responsive\": true}                    ).then(function(){\n",
       "                            \n",
       "var gd = document.getElementById('5c1ad956-1b1b-48be-9046-d9eec34043c1');\n",
       "var x = new MutationObserver(function (mutations, observer) {{\n",
       "        var display = window.getComputedStyle(gd).display;\n",
       "        if (!display || display === 'none') {{\n",
       "            console.log([gd, 'removed!']);\n",
       "            Plotly.purge(gd);\n",
       "            observer.disconnect();\n",
       "        }}\n",
       "}});\n",
       "\n",
       "// Listen for the removal of the full notebook cells\n",
       "var notebookContainer = gd.closest('#notebook-container');\n",
       "if (notebookContainer) {{\n",
       "    x.observe(notebookContainer, {childList: true});\n",
       "}}\n",
       "\n",
       "// Listen for the clearing of the current output cell\n",
       "var outputEl = gd.closest('.output');\n",
       "if (outputEl) {{\n",
       "    x.observe(outputEl, {childList: true});\n",
       "}}\n",
       "\n",
       "                        })                };                });            </script>        </div>"
      ]
     },
     "metadata": {},
     "output_type": "display_data"
    }
   ],
   "source": [
    "fig = px.sunburst(rec_class_df2, \n",
    "                  path=['rec_class', 'year'],  # Hierarchical structure (rec_class and year)\n",
    "                  values='num_meteorites',  # Values represent the size of each segment\n",
    "                  title='Meteorite Classification and Year Distribution')\n",
    "\n",
    "# Show the chart\n",
    "fig.show()\n"
   ]
  },
  {
   "cell_type": "code",
   "execution_count": null,
   "id": "c08a3ad9-d95c-4cc9-bd16-e26cfcf848fd",
   "metadata": {},
   "outputs": [],
   "source": []
  }
 ],
 "metadata": {
  "kernelspec": {
   "display_name": "Python 3 (ipykernel)",
   "language": "python",
   "name": "python3"
  },
  "language_info": {
   "codemirror_mode": {
    "name": "ipython",
    "version": 3
   },
   "file_extension": ".py",
   "mimetype": "text/x-python",
   "name": "python",
   "nbconvert_exporter": "python",
   "pygments_lexer": "ipython3",
   "version": "3.10.12"
  }
 },
 "nbformat": 4,
 "nbformat_minor": 5
}
